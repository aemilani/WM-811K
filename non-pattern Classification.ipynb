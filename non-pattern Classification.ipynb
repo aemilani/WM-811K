{
 "cells": [
  {
   "cell_type": "code",
   "execution_count": 15,
   "metadata": {},
   "outputs": [],
   "source": [
    "import numpy as np\n",
    "import pandas as pd\n",
    "import tensorflow as tf\n",
    "from tensorflow.keras.utils import to_categorical"
   ]
  },
  {
   "cell_type": "code",
   "execution_count": 3,
   "metadata": {},
   "outputs": [],
   "source": [
    "def resize_wafer_map(wm, target_size=(64, 64)):\n",
    "    return tf.image.resize(np.expand_dims(wm, axis=-1), target_size, method='nearest').numpy()"
   ]
  },
  {
   "cell_type": "code",
   "execution_count": 4,
   "metadata": {},
   "outputs": [],
   "source": [
    "def one_hot_img(wm):\n",
    "    h, w = wm.shape[0], wm.shape[1]\n",
    "    one_hot = np.zeros((h, w, 3))\n",
    "    for i in range(h):\n",
    "        for j in range(w):\n",
    "            one_hot[i, j, int(wm[i, j])] = 1\n",
    "    return one_hot"
   ]
  },
  {
   "cell_type": "code",
   "execution_count": 5,
   "metadata": {},
   "outputs": [],
   "source": [
    "def add_noise(wm):\n",
    "    h, w = wm.shape[0], wm.shape[1]\n",
    "    n_change = int(0.01 * h * w)\n",
    "    changed = 0\n",
    "    noised = wm.copy()\n",
    "    while changed < n_change:\n",
    "        i, j = np.random.randint(0, h), np.random.randint(0, w)\n",
    "        if wm[i, j, 0] == 0:  # If the point is on the wafer\n",
    "            noised[i, j, 1] = int(not noised[i, j, 1])\n",
    "            noised[i, j, 2] = int(not noised[i, j, 2])\n",
    "            changed += 1\n",
    "    return noised"
   ]
  },
  {
   "cell_type": "code",
   "execution_count": 16,
   "metadata": {},
   "outputs": [],
   "source": [
    "def dataset(include_nonpattern=False, wm_dim=64):\n",
    "    df = pd.read_pickle(\"data/LSWMD.pkl\")\n",
    "    df = df.drop(['trianTestLabel'], axis=1)\n",
    "    df = df.drop(['waferIndex'], axis=1)\n",
    "\n",
    "    df['failureNum'] = df.failureType\n",
    "    mapping = {'Center': 0, 'Donut': 1, 'Edge-Loc': 2, 'Edge-Ring': 3,\n",
    "               'Loc': 4, 'Near-full': 5, 'Random': 6, 'Scratch': 7, 'none': 8}\n",
    "    df = df.replace({'failureNum': mapping})\n",
    "\n",
    "    if include_nonpattern:\n",
    "        failure_types = ['Center', 'Donut', 'Edge-Loc', 'Edge-Ring',\n",
    "                         'Loc', 'Near-full', 'Random', 'Scratch', 'none']\n",
    "        df = df[(df['failureNum'] >= 0) & (df['failureNum'] <= 8)]\n",
    "    else:\n",
    "        failure_types = ['Center', 'Donut', 'Edge-Loc', 'Edge-Ring',\n",
    "                         'Loc', 'Near-full', 'Random', 'Scratch']\n",
    "        df = df[(df['failureNum'] >= 0) & (df['failureNum'] <= 7)]\n",
    "\n",
    "    df['waferMapResized'] = df.waferMap.apply(lambda w: resize_wafer_map(w, target_size=(wm_dim, wm_dim))).\\\n",
    "        apply(one_hot_img)\n",
    "\n",
    "    for label in range(len(failure_types)):\n",
    "        globals()['df_{}'.format(label)] = df[(df['failureNum'] == label)].sample(frac=1)\n",
    "\n",
    "    test_ratio, valid_ratio = 0.2, 0.2\n",
    "    for label in range(len(failure_types)):\n",
    "        length = len(globals()['df_{}'.format(label)])\n",
    "        idx_test = int(length * test_ratio)\n",
    "        idx_valid = idx_test + int(length * valid_ratio)\n",
    "        globals()['df_{}_test'.format(label)] = globals()['df_{}'.format(label)][:idx_test].reset_index()\n",
    "        globals()['df_{}_valid'.format(label)] = globals()['df_{}'.format(label)][idx_test:idx_valid].reset_index()\n",
    "        globals()['df_{}_train'.format(label)] = globals()['df_{}'.format(label)][idx_valid:].reset_index()\n",
    "        del globals()['df_{}'.format(label)]\n",
    "\n",
    "    max_class_len_train = np.max([len(globals()['df_{}_train'.format(i)]) for i in range(len(failure_types))])\n",
    "\n",
    "    x_test, y_test = [], []\n",
    "    for label in range(len(failure_types)):\n",
    "        for wm in globals()['df_{}_test'.format(label)].waferMapResized:\n",
    "            x_test.append(np.expand_dims(wm, axis=0))\n",
    "            y_test.append(label)\n",
    "\n",
    "    x_valid, y_valid = [], []\n",
    "    for label in range(len(failure_types)):\n",
    "        for wm in globals()['df_{}_valid'.format(label)].waferMapResized:\n",
    "            x_valid.append(np.expand_dims(wm, axis=0))\n",
    "            y_valid.append(label)\n",
    "\n",
    "    x_train, y_train = [], []\n",
    "    for label in range(len(failure_types)):\n",
    "        length = len(globals()['df_{}_train'.format(label)])\n",
    "        n_new = max_class_len_train - length\n",
    "        for i in range(n_new):\n",
    "            x = globals()['df_{}_train'.format(label)].waferMapResized.loc[np.random.choice(range(length))]\n",
    "            if np.random.random() < 0.5:\n",
    "                new_x = tf.image.flip_left_right(x).numpy()\n",
    "            else:\n",
    "                new_x = tf.image.rot90(x).numpy()\n",
    "            new_x = add_noise(new_x)\n",
    "            x_train.append(np.expand_dims(new_x, axis=0))\n",
    "            y_train.append(label)\n",
    "        for wm in globals()['df_{}_train'.format(label)].waferMapResized:\n",
    "            x_train.append(np.expand_dims(wm, axis=0))\n",
    "            y_train.append(label)\n",
    "\n",
    "    x_test_arr = np.concatenate(x_test, axis=0)\n",
    "    y_test_arr = np.array(y_test)\n",
    "    x_valid_arr = np.concatenate(x_valid, axis=0)\n",
    "    y_valid_arr = np.array(y_valid)\n",
    "    x_train_arr = np.concatenate(x_train, axis=0)\n",
    "    y_train_arr = np.array(y_train)\n",
    "    del x_test, y_test, x_valid, y_valid, x_train, y_train\n",
    "\n",
    "    y_test_arr = to_categorical(y_test_arr)\n",
    "    y_valid_arr = to_categorical(y_valid_arr)\n",
    "    y_train_arr = to_categorical(y_train_arr)\n",
    "\n",
    "    return x_train_arr, y_train_arr, x_valid_arr, y_valid_arr, x_test_arr, y_test_arr"
   ]
  },
  {
   "cell_type": "code",
   "execution_count": null,
   "metadata": {},
   "outputs": [
    {
     "name": "stderr",
     "output_type": "stream",
     "text": [
      "C:\\Users\\aeali\\AppData\\Local\\Continuum\\anaconda3\\lib\\site-packages\\pandas\\core\\internals\\managers.py:1911: FutureWarning: elementwise comparison failed; returning scalar instead, but in the future will perform elementwise comparison\n",
      "  op = lambda x: operator.eq(x, b)\n"
     ]
    }
   ],
   "source": [
    "x_train, y_train, x_valid, y_valid, x_test, y_test = dataset()"
   ]
  }
 ],
 "metadata": {
  "kernelspec": {
   "display_name": "Python 3",
   "language": "python",
   "name": "python3"
  },
  "language_info": {
   "codemirror_mode": {
    "name": "ipython",
    "version": 3
   },
   "file_extension": ".py",
   "mimetype": "text/x-python",
   "name": "python",
   "nbconvert_exporter": "python",
   "pygments_lexer": "ipython3",
   "version": "3.6.7"
  }
 },
 "nbformat": 4,
 "nbformat_minor": 2
}
