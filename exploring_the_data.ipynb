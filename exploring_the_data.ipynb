{
 "cells": [
  {
   "cell_type": "markdown",
   "metadata": {},
   "source": [
    "# WM-811k Wafermap Dataset"
   ]
  },
  {
   "cell_type": "markdown",
   "metadata": {},
   "source": [
    "## Problem Statement\n",
    "- **Objective:** To identify different types of wafer map failure patterns automatically instead of manual inspection, which will result in the improvement of wafer fabrication yield.\n",
    "- **Input:** WM-811K dataset\n",
    "- **Output:** Failure pattern labels\n"
   ]
  },
  {
   "cell_type": "markdown",
   "metadata": {},
   "source": [
    "## Data Visualisation and Preparation"
   ]
  },
  {
   "cell_type": "markdown",
   "metadata": {},
   "source": [
    "### Data Summary"
   ]
  },
  {
   "cell_type": "code",
   "execution_count": 2,
   "metadata": {},
   "outputs": [],
   "source": [
    "import numpy as np\n",
    "import pandas as pd\n",
    "import matplotlib.pyplot as plt\n",
    "from matplotlib import gridspec\n",
    "%matplotlib inline"
   ]
  },
  {
   "cell_type": "code",
   "execution_count": 3,
   "metadata": {
    "scrolled": true
   },
   "outputs": [
    {
     "name": "stdout",
     "output_type": "stream",
     "text": [
      "<class 'pandas.core.frame.DataFrame'>\n",
      "RangeIndex: 811457 entries, 0 to 811456\n",
      "Data columns (total 6 columns):\n",
      " #   Column          Non-Null Count   Dtype  \n",
      "---  ------          --------------   -----  \n",
      " 0   waferMap        811457 non-null  object \n",
      " 1   dieSize         811457 non-null  float64\n",
      " 2   lotName         811457 non-null  object \n",
      " 3   waferIndex      811457 non-null  float64\n",
      " 4   trianTestLabel  811457 non-null  object \n",
      " 5   failureType     811457 non-null  object \n",
      "dtypes: float64(2), object(4)\n",
      "memory usage: 37.1+ MB\n"
     ]
    }
   ],
   "source": [
    "df = pd.read_pickle(\"data/LSWMD.pkl\")\n",
    "df.info()"
   ]
  },
  {
   "cell_type": "markdown",
   "metadata": {},
   "source": [
    "The dataset comprises **811,457 wafer maps**, along with additional information such as **wafer die size**, **lot name**, and **wafer index**."
   ]
  },
  {
   "cell_type": "code",
   "execution_count": 4,
   "metadata": {},
   "outputs": [
    {
     "data": {
      "text/html": [
       "<div>\n",
       "<style scoped>\n",
       "    .dataframe tbody tr th:only-of-type {\n",
       "        vertical-align: middle;\n",
       "    }\n",
       "\n",
       "    .dataframe tbody tr th {\n",
       "        vertical-align: top;\n",
       "    }\n",
       "\n",
       "    .dataframe thead th {\n",
       "        text-align: right;\n",
       "    }\n",
       "</style>\n",
       "<table border=\"1\" class=\"dataframe\">\n",
       "  <thead>\n",
       "    <tr style=\"text-align: right;\">\n",
       "      <th></th>\n",
       "      <th>waferMap</th>\n",
       "      <th>dieSize</th>\n",
       "      <th>lotName</th>\n",
       "      <th>waferIndex</th>\n",
       "      <th>trianTestLabel</th>\n",
       "      <th>failureType</th>\n",
       "    </tr>\n",
       "  </thead>\n",
       "  <tbody>\n",
       "    <tr>\n",
       "      <th>0</th>\n",
       "      <td>[[0, 0, 0, 0, 0, 0, 0, 0, 0, 0, 0, 0, 0, 0, 0,...</td>\n",
       "      <td>1683.0</td>\n",
       "      <td>lot1</td>\n",
       "      <td>1.0</td>\n",
       "      <td>[[Training]]</td>\n",
       "      <td>[[none]]</td>\n",
       "    </tr>\n",
       "    <tr>\n",
       "      <th>1</th>\n",
       "      <td>[[0, 0, 0, 0, 0, 0, 0, 0, 0, 0, 0, 0, 0, 0, 0,...</td>\n",
       "      <td>1683.0</td>\n",
       "      <td>lot1</td>\n",
       "      <td>2.0</td>\n",
       "      <td>[[Training]]</td>\n",
       "      <td>[[none]]</td>\n",
       "    </tr>\n",
       "    <tr>\n",
       "      <th>2</th>\n",
       "      <td>[[0, 0, 0, 0, 0, 0, 0, 0, 0, 0, 0, 0, 0, 0, 0,...</td>\n",
       "      <td>1683.0</td>\n",
       "      <td>lot1</td>\n",
       "      <td>3.0</td>\n",
       "      <td>[[Training]]</td>\n",
       "      <td>[[none]]</td>\n",
       "    </tr>\n",
       "    <tr>\n",
       "      <th>3</th>\n",
       "      <td>[[0, 0, 0, 0, 0, 0, 0, 0, 0, 0, 0, 0, 0, 0, 0,...</td>\n",
       "      <td>1683.0</td>\n",
       "      <td>lot1</td>\n",
       "      <td>4.0</td>\n",
       "      <td>[[Training]]</td>\n",
       "      <td>[[none]]</td>\n",
       "    </tr>\n",
       "    <tr>\n",
       "      <th>4</th>\n",
       "      <td>[[0, 0, 0, 0, 0, 0, 0, 0, 0, 0, 0, 0, 0, 0, 0,...</td>\n",
       "      <td>1683.0</td>\n",
       "      <td>lot1</td>\n",
       "      <td>5.0</td>\n",
       "      <td>[[Training]]</td>\n",
       "      <td>[[none]]</td>\n",
       "    </tr>\n",
       "  </tbody>\n",
       "</table>\n",
       "</div>"
      ],
      "text/plain": [
       "                                            waferMap  dieSize lotName  \\\n",
       "0  [[0, 0, 0, 0, 0, 0, 0, 0, 0, 0, 0, 0, 0, 0, 0,...   1683.0    lot1   \n",
       "1  [[0, 0, 0, 0, 0, 0, 0, 0, 0, 0, 0, 0, 0, 0, 0,...   1683.0    lot1   \n",
       "2  [[0, 0, 0, 0, 0, 0, 0, 0, 0, 0, 0, 0, 0, 0, 0,...   1683.0    lot1   \n",
       "3  [[0, 0, 0, 0, 0, 0, 0, 0, 0, 0, 0, 0, 0, 0, 0,...   1683.0    lot1   \n",
       "4  [[0, 0, 0, 0, 0, 0, 0, 0, 0, 0, 0, 0, 0, 0, 0,...   1683.0    lot1   \n",
       "\n",
       "   waferIndex trianTestLabel failureType  \n",
       "0         1.0   [[Training]]    [[none]]  \n",
       "1         2.0   [[Training]]    [[none]]  \n",
       "2         3.0   [[Training]]    [[none]]  \n",
       "3         4.0   [[Training]]    [[none]]  \n",
       "4         5.0   [[Training]]    [[none]]  "
      ]
     },
     "execution_count": 4,
     "metadata": {},
     "output_type": "execute_result"
    }
   ],
   "source": [
    "df.head()"
   ]
  },
  {
   "cell_type": "code",
   "execution_count": 5,
   "metadata": {},
   "outputs": [
    {
     "data": {
      "text/html": [
       "<div>\n",
       "<style scoped>\n",
       "    .dataframe tbody tr th:only-of-type {\n",
       "        vertical-align: middle;\n",
       "    }\n",
       "\n",
       "    .dataframe tbody tr th {\n",
       "        vertical-align: top;\n",
       "    }\n",
       "\n",
       "    .dataframe thead th {\n",
       "        text-align: right;\n",
       "    }\n",
       "</style>\n",
       "<table border=\"1\" class=\"dataframe\">\n",
       "  <thead>\n",
       "    <tr style=\"text-align: right;\">\n",
       "      <th></th>\n",
       "      <th>waferMap</th>\n",
       "      <th>dieSize</th>\n",
       "      <th>lotName</th>\n",
       "      <th>waferIndex</th>\n",
       "      <th>trianTestLabel</th>\n",
       "      <th>failureType</th>\n",
       "    </tr>\n",
       "  </thead>\n",
       "  <tbody>\n",
       "    <tr>\n",
       "      <th>811452</th>\n",
       "      <td>[[0, 0, 0, 0, 0, 0, 0, 0, 0, 0, 0, 1, 2, 1, 1,...</td>\n",
       "      <td>600.0</td>\n",
       "      <td>lot47542</td>\n",
       "      <td>23.0</td>\n",
       "      <td>[[Test]]</td>\n",
       "      <td>[[Edge-Ring]]</td>\n",
       "    </tr>\n",
       "    <tr>\n",
       "      <th>811453</th>\n",
       "      <td>[[0, 0, 0, 0, 0, 0, 0, 0, 0, 0, 0, 2, 2, 1, 1,...</td>\n",
       "      <td>600.0</td>\n",
       "      <td>lot47542</td>\n",
       "      <td>24.0</td>\n",
       "      <td>[[Test]]</td>\n",
       "      <td>[[Edge-Loc]]</td>\n",
       "    </tr>\n",
       "    <tr>\n",
       "      <th>811454</th>\n",
       "      <td>[[0, 0, 0, 0, 0, 0, 0, 0, 0, 0, 0, 1, 2, 1, 1,...</td>\n",
       "      <td>600.0</td>\n",
       "      <td>lot47542</td>\n",
       "      <td>25.0</td>\n",
       "      <td>[[Test]]</td>\n",
       "      <td>[[Edge-Ring]]</td>\n",
       "    </tr>\n",
       "    <tr>\n",
       "      <th>811455</th>\n",
       "      <td>[[0, 0, 0, 0, 0, 0, 0, 0, 0, 0, 0, 1, 1, 1, 1,...</td>\n",
       "      <td>600.0</td>\n",
       "      <td>lot47543</td>\n",
       "      <td>1.0</td>\n",
       "      <td>[]</td>\n",
       "      <td>[]</td>\n",
       "    </tr>\n",
       "    <tr>\n",
       "      <th>811456</th>\n",
       "      <td>[[0, 0, 0, 0, 0, 0, 0, 0, 0, 0, 0, 1, 2, 1, 1,...</td>\n",
       "      <td>600.0</td>\n",
       "      <td>lot47543</td>\n",
       "      <td>2.0</td>\n",
       "      <td>[]</td>\n",
       "      <td>[]</td>\n",
       "    </tr>\n",
       "  </tbody>\n",
       "</table>\n",
       "</div>"
      ],
      "text/plain": [
       "                                                 waferMap  dieSize   lotName  \\\n",
       "811452  [[0, 0, 0, 0, 0, 0, 0, 0, 0, 0, 0, 1, 2, 1, 1,...    600.0  lot47542   \n",
       "811453  [[0, 0, 0, 0, 0, 0, 0, 0, 0, 0, 0, 2, 2, 1, 1,...    600.0  lot47542   \n",
       "811454  [[0, 0, 0, 0, 0, 0, 0, 0, 0, 0, 0, 1, 2, 1, 1,...    600.0  lot47542   \n",
       "811455  [[0, 0, 0, 0, 0, 0, 0, 0, 0, 0, 0, 1, 1, 1, 1,...    600.0  lot47543   \n",
       "811456  [[0, 0, 0, 0, 0, 0, 0, 0, 0, 0, 0, 1, 2, 1, 1,...    600.0  lot47543   \n",
       "\n",
       "        waferIndex trianTestLabel    failureType  \n",
       "811452        23.0       [[Test]]  [[Edge-Ring]]  \n",
       "811453        24.0       [[Test]]   [[Edge-Loc]]  \n",
       "811454        25.0       [[Test]]  [[Edge-Ring]]  \n",
       "811455         1.0             []             []  \n",
       "811456         2.0             []             []  "
      ]
     },
     "execution_count": 5,
     "metadata": {},
     "output_type": "execute_result"
    }
   ],
   "source": [
    "df.tail()"
   ]
  },
  {
   "cell_type": "markdown",
   "metadata": {},
   "source": [
    "The data were collected from **47,543 lots** in real world fabrication."
   ]
  },
  {
   "cell_type": "code",
   "execution_count": 6,
   "metadata": {},
   "outputs": [
    {
     "data": {
      "image/png": "[encoded data removed]",
      "text/plain": [
       "<Figure size 432x288 with 1 Axes>"
      ]
     },
     "metadata": {
      "needs_background": "light"
     },
     "output_type": "display_data"
    }
   ],
   "source": [
    "uni_Index = np.unique(df.waferIndex, return_counts=True)\n",
    "plt.bar(uni_Index[0],uni_Index[1], color='gold', align='center', alpha=0.5)\n",
    "plt.title(\" Wafer Index Distribution\")\n",
    "plt.xlabel(\"Index Number\")\n",
    "plt.ylabel(\"Number of Data\")\n",
    "plt.xlim(0,26)\n",
    "plt.ylim(30000,34000)\n",
    "plt.show()"
   ]
  },
  {
   "cell_type": "markdown",
   "metadata": {},
   "source": [
    "The figure shows that not all lots have perfect 25 wafer maps. It may have been caused by sensor failure or other problems. Probably, we will not need this variable in our classification, so we can drop it from the dataset."
   ]
  },
  {
   "cell_type": "code",
   "execution_count": 7,
   "metadata": {},
   "outputs": [],
   "source": [
    "df = df.drop(['waferIndex'], axis = 1)"
   ]
  },
  {
   "cell_type": "markdown",
   "metadata": {},
   "source": [
    "To check the wafer map dimensions, we create a new variable **'waferMapDim'**"
   ]
  },
  {
   "cell_type": "code",
   "execution_count": 8,
   "metadata": {},
   "outputs": [
    {
     "data": {
      "text/html": [
       "<div>\n",
       "<style scoped>\n",
       "    .dataframe tbody tr th:only-of-type {\n",
       "        vertical-align: middle;\n",
       "    }\n",
       "\n",
       "    .dataframe tbody tr th {\n",
       "        vertical-align: top;\n",
       "    }\n",
       "\n",
       "    .dataframe thead th {\n",
       "        text-align: right;\n",
       "    }\n",
       "</style>\n",
       "<table border=\"1\" class=\"dataframe\">\n",
       "  <thead>\n",
       "    <tr style=\"text-align: right;\">\n",
       "      <th></th>\n",
       "      <th>waferMap</th>\n",
       "      <th>dieSize</th>\n",
       "      <th>lotName</th>\n",
       "      <th>trianTestLabel</th>\n",
       "      <th>failureType</th>\n",
       "      <th>waferMapDim</th>\n",
       "    </tr>\n",
       "  </thead>\n",
       "  <tbody>\n",
       "    <tr>\n",
       "      <th>500809</th>\n",
       "      <td>[[0, 0, 0, 0, 0, 0, 0, 0, 0, 0, 0, 0, 2, 1, 1,...</td>\n",
       "      <td>710.0</td>\n",
       "      <td>lot31141</td>\n",
       "      <td>[]</td>\n",
       "      <td>[]</td>\n",
       "      <td>(32, 29)</td>\n",
       "    </tr>\n",
       "    <tr>\n",
       "      <th>776881</th>\n",
       "      <td>[[0, 0, 0, 0, 0, 0, 0, 0, 0, 0, 0, 0, 1, 1, 1,...</td>\n",
       "      <td>935.0</td>\n",
       "      <td>lot46139</td>\n",
       "      <td>[[Test]]</td>\n",
       "      <td>[[none]]</td>\n",
       "      <td>(35, 34)</td>\n",
       "    </tr>\n",
       "    <tr>\n",
       "      <th>710100</th>\n",
       "      <td>[[0, 0, 0, 0, 0, 0, 0, 0, 0, 0, 0, 0, 1, 2, 2,...</td>\n",
       "      <td>516.0</td>\n",
       "      <td>lot43430</td>\n",
       "      <td>[[Training]]</td>\n",
       "      <td>[[none]]</td>\n",
       "      <td>(25, 27)</td>\n",
       "    </tr>\n",
       "    <tr>\n",
       "      <th>620237</th>\n",
       "      <td>[[0, 0, 0, 0, 0, 0, 0, 0, 0, 0, 0, 0, 0, 0, 0,...</td>\n",
       "      <td>1513.0</td>\n",
       "      <td>lot38971</td>\n",
       "      <td>[]</td>\n",
       "      <td>[]</td>\n",
       "      <td>(49, 39)</td>\n",
       "    </tr>\n",
       "    <tr>\n",
       "      <th>305176</th>\n",
       "      <td>[[0, 0, 0, 0, 0, 0, 0, 0, 0, 0, 0, 0, 0, 0, 0,...</td>\n",
       "      <td>1507.0</td>\n",
       "      <td>lot18614</td>\n",
       "      <td>[]</td>\n",
       "      <td>[]</td>\n",
       "      <td>(44, 44)</td>\n",
       "    </tr>\n",
       "  </tbody>\n",
       "</table>\n",
       "</div>"
      ],
      "text/plain": [
       "                                                 waferMap  dieSize   lotName  \\\n",
       "500809  [[0, 0, 0, 0, 0, 0, 0, 0, 0, 0, 0, 0, 2, 1, 1,...    710.0  lot31141   \n",
       "776881  [[0, 0, 0, 0, 0, 0, 0, 0, 0, 0, 0, 0, 1, 1, 1,...    935.0  lot46139   \n",
       "710100  [[0, 0, 0, 0, 0, 0, 0, 0, 0, 0, 0, 0, 1, 2, 2,...    516.0  lot43430   \n",
       "620237  [[0, 0, 0, 0, 0, 0, 0, 0, 0, 0, 0, 0, 0, 0, 0,...   1513.0  lot38971   \n",
       "305176  [[0, 0, 0, 0, 0, 0, 0, 0, 0, 0, 0, 0, 0, 0, 0,...   1507.0  lot18614   \n",
       "\n",
       "       trianTestLabel failureType waferMapDim  \n",
       "500809             []          []    (32, 29)  \n",
       "776881       [[Test]]    [[none]]    (35, 34)  \n",
       "710100   [[Training]]    [[none]]    (25, 27)  \n",
       "620237             []          []    (49, 39)  \n",
       "305176             []          []    (44, 44)  "
      ]
     },
     "execution_count": 8,
     "metadata": {},
     "output_type": "execute_result"
    }
   ],
   "source": [
    "df['waferMapDim']=df.waferMap.apply(lambda x: np.shape(x))\n",
    "df.sample(5)"
   ]
  },
  {
   "cell_type": "code",
   "execution_count": 9,
   "metadata": {},
   "outputs": [
    {
     "name": "stdout",
     "output_type": "stream",
     "text": [
      "Largest wafer map shape: (300, 202) \n",
      "Smallest wafer map shape: (6, 21)\n",
      "Number of unique wafer map shapes: 632\n"
     ]
    }
   ],
   "source": [
    "print('Largest wafer map shape:', max(df.waferMapDim), '\\nSmallest wafer map shape:', min(df.waferMapDim))\n",
    "uni_waferDim=np.unique(df.waferMapDim, return_counts=True)\n",
    "print('Number of unique wafer map shapes:', uni_waferDim[0].shape[0])"
   ]
  },
  {
   "cell_type": "code",
   "execution_count": 10,
   "metadata": {},
   "outputs": [
    {
     "name": "stdout",
     "output_type": "stream",
     "text": [
      "(32, 29)\n",
      "108687\n"
     ]
    }
   ],
   "source": [
    "print(uni_waferDim[0][np.argmax(uni_waferDim[1])])\n",
    "print(uni_waferDim[1][np.argmax(uni_waferDim[1])])"
   ]
  },
  {
   "cell_type": "markdown",
   "metadata": {},
   "source": [
    "**Data transformation** is required to make the input the same dimension."
   ]
  },
  {
   "cell_type": "markdown",
   "metadata": {},
   "source": [
    "### Missing Value Check"
   ]
  },
  {
   "cell_type": "markdown",
   "metadata": {},
   "source": [
    "Since we are only interested in the samples with a failure type, we may remove those without any failure type specified."
   ]
  },
  {
   "cell_type": "code",
   "execution_count": 11,
   "metadata": {},
   "outputs": [
    {
     "name": "stdout",
     "output_type": "stream",
     "text": [
      "Total number of wafers: 811457\n"
     ]
    }
   ],
   "source": [
    "tol_wafers = df.shape[0]\n",
    "print('Total number of wafers:', tol_wafers)"
   ]
  },
  {
   "cell_type": "code",
   "execution_count": 12,
   "metadata": {},
   "outputs": [
    {
     "name": "stdout",
     "output_type": "stream",
     "text": [
      "Different failure types: {'Random', 'none', 'Donut', 'Center', 'Loc', 'Near-full', 'Edge-Ring', 'Scratch', 'Edge-Loc'}\n"
     ]
    }
   ],
   "source": [
    "failure_types = []\n",
    "for f in df.failureType:\n",
    "    if f.size > 0:\n",
    "        failure_types.append(f[0][0])\n",
    "failure_types = set(failure_types)\n",
    "print('Different failure types:', failure_types)"
   ]
  },
  {
   "cell_type": "code",
   "execution_count": 13,
   "metadata": {},
   "outputs": [
    {
     "name": "stderr",
     "output_type": "stream",
     "text": [
      "C:\\Users\\aeali\\AppData\\Local\\Continuum\\anaconda3\\lib\\site-packages\\pandas\\core\\internals\\managers.py:1911: FutureWarning: elementwise comparison failed; returning scalar instead, but in the future will perform elementwise comparison\n",
      "  op = lambda x: operator.eq(x, b)\n"
     ]
    }
   ],
   "source": [
    "df['failureNum']=df.failureType\n",
    "df['trainTestNum']=df.trianTestLabel\n",
    "mapping_type={'Center':0,'Donut':1,'Edge-Loc':2,'Edge-Ring':3,'Loc':4,'Random':5,'Scratch':6,'Near-full':7,'none':8}\n",
    "mapping_traintest={'Training':0,'Test':1}\n",
    "df=df.replace({'failureNum':mapping_type, 'trainTestNum':mapping_traintest})"
   ]
  },
  {
   "cell_type": "code",
   "execution_count": 14,
   "metadata": {},
   "outputs": [
    {
     "name": "stdout",
     "output_type": "stream",
     "text": [
      "Samples with labels: 172950\n",
      "Samples for which the label is a pattern: 25519\n",
      "Samples for which the label is None: 147431\n"
     ]
    }
   ],
   "source": [
    "df_withlabel = df[(df['failureNum']>=0) & (df['failureNum']<=8)]\n",
    "df_withlabel =df_withlabel.reset_index()\n",
    "df_withpattern = df[(df['failureNum']>=0) & (df['failureNum']<=7)]\n",
    "df_withpattern = df_withpattern.reset_index()\n",
    "df_nonpattern = df[(df['failureNum']==8)]\n",
    "print('Samples with labels:', df_withlabel.shape[0])\n",
    "print('Samples for which the label is a pattern:', df_withpattern.shape[0])\n",
    "print('Samples for which the label is None:', df_nonpattern.shape[0])"
   ]
  },
  {
   "cell_type": "code",
   "execution_count": 25,
   "metadata": {},
   "outputs": [
    {
     "name": "stdout",
     "output_type": "stream",
     "text": [
      "(22, 35)\n",
      "[['Center']]\n"
     ]
    },
    {
     "data": {
      "image/png": "[encoded data removed]",
      "text/plain": [
       "<Figure size 432x288 with 1 Axes>"
      ]
     },
     "metadata": {
      "needs_background": "light"
     },
     "output_type": "display_data"
    }
   ],
   "source": [
    "print(np.min(df_withpattern.waferMapDim))\n",
    "plt.imshow(df_withpattern.waferMap[np.argmin(df_withpattern.waferMapDim)])\n",
    "print(df_withpattern.failureType[np.argmin(df_withpattern.waferMapDim)])"
   ]
  },
  {
   "cell_type": "code",
   "execution_count": 26,
   "metadata": {},
   "outputs": [
    {
     "name": "stdout",
     "output_type": "stream",
     "text": [
      "(212, 84)\n",
      "[['Loc']]\n"
     ]
    },
    {
     "data": {
      "image/png": "[encoded data removed]",
      "text/plain": [
       "<Figure size 432x288 with 1 Axes>"
      ]
     },
     "metadata": {
      "needs_background": "light"
     },
     "output_type": "display_data"
    }
   ],
   "source": [
    "print(np.max(df_withpattern.waferMapDim))\n",
    "plt.imshow(df_withpattern.waferMap[np.argmax(df_withpattern.waferMapDim)])\n",
    "print(df_withpattern.failureType[np.argmax(df_withpattern.waferMapDim)])"
   ]
  },
  {
   "cell_type": "code",
   "execution_count": 40,
   "metadata": {},
   "outputs": [
    {
     "name": "stdout",
     "output_type": "stream",
     "text": [
      "Number of unique wafer map shapes: 329\n",
      "Most frequent shape: (25, 27)\n",
      "Number of samples: 2900\n"
     ]
    }
   ],
   "source": [
    "uni_waferDim_pattern=np.unique(df_withpattern.waferMapDim, return_counts=True)\n",
    "print('Number of unique wafer map shapes:', uni_waferDim_pattern[0].shape[0])\n",
    "print('Most frequent shape:', uni_waferDim_pattern[0][np.argmax(uni_waferDim_pattern[1])])\n",
    "print('Number of samples:', uni_waferDim_pattern[1][np.argmax(uni_waferDim_pattern[1])])\n",
    "dic = {}\n",
    "for shape, count in zip(uni_waferDim_pattern[0], uni_waferDim_pattern[1]):\n",
    "    dic[shape] = count\n",
    "sorted_dic = {k: v for k, v in sorted(dic.items(), key=lambda item: item[1])}"
   ]
  },
  {
   "cell_type": "code",
   "execution_count": 41,
   "metadata": {},
   "outputs": [
    {
     "name": "stdout",
     "output_type": "stream",
     "text": [
      "{(26, 50): 1, (29, 28): 1, (29, 35): 1, (29, 45): 1, (35, 35): 1, (36, 41): 1, (38, 41): 1, (38, 45): 1, (38, 62): 1, (41, 30): 1, (41, 39): 1, (42, 39): 1, (43, 133): 1, (47, 42): 1, (48, 61): 1, (50, 68): 1, (52, 53): 1, (53, 44): 1, (54, 54): 1, (55, 56): 1, (56, 63): 1, (57, 39): 1, (58, 54): 1, (59, 42): 1, (59, 55): 1, (62, 62): 1, (63, 63): 1, (63, 75): 1, (64, 61): 1, (65, 66): 1, (66, 66): 1, (66, 71): 1, (67, 65): 1, (68, 72): 1, (68, 75): 1, (71, 63): 1, (71, 70): 1, (71, 72): 1, (72, 50): 1, (73, 72): 1, (75, 77): 1, (75, 90): 1, (79, 58): 1, (86, 82): 1, (89, 81): 1, (92, 91): 1, (109, 111): 1, (122, 102): 1, (122, 104): 1, (22, 35): 2, (28, 26): 2, (28, 30): 2, (32, 31): 2, (34, 36): 2, (36, 30): 2, (36, 35): 2, (38, 39): 2, (39, 44): 2, (41, 44): 2, (41, 56): 2, (42, 42): 2, (45, 51): 2, (47, 32): 2, (47, 47): 2, (50, 44): 2, (51, 41): 2, (51, 53): 2, (52, 35): 2, (52, 52): 2, (53, 49): 2, (55, 68): 2, (57, 57): 2, (59, 50): 2, (59, 58): 2, (62, 61): 2, (62, 76): 2, (64, 63): 2, (66, 78): 2, (69, 62): 2, (70, 36): 2, (70, 58): 2, (70, 84): 2, (72, 43): 2, (73, 61): 2, (73, 79): 2, (74, 61): 2, (75, 63): 2, (75, 75): 2, (75, 79): 2, (76, 64): 2, (82, 83): 2, (89, 90): 2, (94, 95): 2, (99, 110): 2, (126, 143): 2, (153, 187): 2, (27, 30): 3, (30, 38): 3, (32, 36): 3, (35, 37): 3, (40, 18): 3, (42, 56): 3, (44, 40): 3, (44, 46): 3, (48, 49): 3, (52, 55): 3, (55, 55): 3, (57, 60): 3, (59, 56): 3, (62, 64): 3, (63, 59): 3, (63, 66): 3, (64, 60): 3, (65, 48): 3, (68, 80): 3, (72, 67): 3, (72, 80): 3, (75, 48): 3, (76, 70): 3, (76, 85): 3, (77, 76): 3, (80, 77): 3, (95, 100): 3, (115, 92): 3, (122, 204): 3, (131, 66): 3, (29, 24): 4, (40, 42): 4, (41, 57): 4, (46, 45): 4, (49, 53): 4, (51, 57): 4, (53, 54): 4, (65, 60): 4, (69, 79): 4, (76, 71): 4, (82, 82): 4, (32, 33): 5, (42, 29): 5, (47, 43): 5, (50, 50): 5, (55, 66): 5, (61, 60): 5, (65, 49): 5, (67, 71): 5, (75, 61): 5, (87, 89): 5, (26, 25): 6, (35, 38): 6, (37, 42): 6, (51, 50): 6, (59, 60): 6, (69, 69): 6, (73, 67): 6, (79, 104): 6, (113, 71): 6, (50, 39): 7, (50, 49): 7, (87, 75): 7, (30, 40): 8, (31, 24): 8, (37, 40): 8, (45, 46): 8, (55, 53): 8, (56, 52): 8, (60, 50): 8, (63, 64): 8, (80, 94): 8, (87, 71): 8, (89, 112): 8, (114, 90): 8, (118, 84): 8, (212, 84): 8, (26, 28): 9, (29, 30): 9, (40, 43): 9, (59, 54): 9, (67, 67): 9, (98, 64): 9, (135, 146): 9, (35, 33): 10, (39, 45): 10, (46, 41): 10, (137, 116): 10, (143, 132): 10, (28, 28): 11, (45, 45): 11, (54, 42): 11, (58, 60): 11, (59, 67): 11, (62, 75): 11, (63, 160): 11, (70, 75): 11, (74, 76): 11, (87, 74): 11, (88, 56): 11, (152, 172): 11, (37, 31): 12, (60, 55): 12, (63, 76): 12, (40, 44): 13, (66, 72): 13, (107, 131): 13, (48, 51): 14, (51, 44): 14, (81, 81): 14, (34, 35): 15, (38, 42): 15, (44, 43): 15, (30, 31): 16, (35, 34): 16, (42, 43): 16, (56, 57): 16, (63, 58): 16, (29, 29): 17, (48, 48): 17, (57, 58): 17, (58, 53): 17, (102, 66): 17, (37, 55): 18, (45, 48): 19, (57, 64): 19, (58, 59): 19, (53, 59): 20, (81, 73): 20, (88, 81): 20, (27, 27): 21, (58, 80): 21, (64, 72): 21, (33, 24): 22, (121, 81): 23, (32, 35): 24, (39, 39): 24, (42, 41): 24, (45, 50): 24, (44, 45): 25, (60, 40): 25, (42, 61): 26, (86, 89): 26, (36, 38): 27, (44, 48): 27, (79, 80): 27, (28, 35): 28, (89, 76): 28, (36, 36): 29, (66, 77): 29, (43, 43): 30, (53, 58): 30, (123, 136): 30, (52, 51): 32, (59, 46): 32, (38, 40): 35, (33, 35): 36, (36, 34): 36, (58, 46): 38, (101, 103): 38, (116, 146): 38, (37, 37): 42, (29, 27): 43, (32, 32): 43, (56, 48): 43, (72, 44): 44, (133, 97): 44, (30, 30): 46, (55, 57): 50, (64, 71): 51, (54, 71): 52, (35, 36): 55, (44, 44): 61, (57, 55): 66, (22, 50): 68, (56, 62): 68, (31, 33): 69, (72, 72): 69, (33, 32): 73, (43, 44): 73, (53, 66): 75, (31, 28): 77, (39, 46): 77, (41, 40): 78, (41, 51): 79, (45, 43): 82, (50, 43): 90, (41, 38): 94, (100, 72): 94, (73, 78): 100, (33, 37): 102, (34, 31): 102, (51, 30): 105, (39, 50): 111, (51, 59): 114, (45, 42): 121, (60, 59): 124, (41, 45): 134, (55, 48): 135, (49, 39): 166, (42, 44): 169, (52, 59): 186, (38, 38): 222, (31, 31): 231, (33, 33): 231, (56, 41): 235, (40, 40): 242, (48, 52): 250, (27, 25): 257, (25, 26): 267, (41, 33): 307, (26, 30): 363, (33, 29): 401, (35, 40): 405, (32, 29): 413, (34, 34): 442, (39, 31): 453, (43, 42): 453, (46, 46): 454, (41, 42): 465, (107, 150): 470, (69, 73): 484, (41, 41): 527, (29, 26): 555, (44, 41): 600, (35, 31): 648, (30, 34): 710, (26, 26): 877, (39, 37): 1015, (63, 62): 1424, (53, 52): 1519, (38, 36): 2127, (25, 27): 2900}\n"
     ]
    }
   ],
   "source": [
    "print(sorted_dic)"
   ]
  },
  {
   "cell_type": "code",
   "execution_count": 27,
   "metadata": {},
   "outputs": [
    {
     "data": {
      "image/png": "[encoded data removed]",
      "text/plain": [
       "<Figure size 1440x324 with 2 Axes>"
      ]
     },
     "metadata": {
      "needs_background": "light"
     },
     "output_type": "display_data"
    }
   ],
   "source": [
    "fig = plt.figure(figsize=(20, 4.5)) \n",
    "gs = gridspec.GridSpec(1, 2, width_ratios=[1, 2.5]) \n",
    "ax1 = plt.subplot(gs[0])\n",
    "ax2 = plt.subplot(gs[1])\n",
    "\n",
    "no_wafers=[tol_wafers-df_withlabel.shape[0], df_withpattern.shape[0], df_nonpattern.shape[0]]\n",
    "\n",
    "colors = ['silver', 'orange', 'gold']\n",
    "explode = (0.1, 0, 0)  # explode 1st slice\n",
    "labels = ['Without Label','With Label and Pattern','With Label but Without Pattern']\n",
    "ax1.pie(no_wafers, explode=explode, labels=labels, colors=colors, autopct='%1.1f%%', shadow=True, startangle=140)\n",
    "\n",
    "uni_pattern=np.unique(df_withpattern.failureNum, return_counts=True)\n",
    "labels2 = ['','Center','Donut','Edge-Loc','Edge-Ring','Loc','Random','Scratch','Near-full']\n",
    "ax2.bar(uni_pattern[0],uni_pattern[1]/df_withpattern.shape[0], color='gold', align='center', alpha=0.9)\n",
    "ax2.set_title(\"Failure Type Frequency\")\n",
    "ax2.set_ylabel(\"% of pattern wafers\")\n",
    "ax2.set_xticklabels(labels2)\n",
    "\n",
    "plt.show()"
   ]
  },
  {
   "cell_type": "markdown",
   "metadata": {},
   "source": [
    "- Only **3.1%** of the wafers **(25,519 wafers)** have real failure patterns.\n",
    "- The class distribution is highly imbalanced."
   ]
  },
  {
   "cell_type": "code",
   "execution_count": null,
   "metadata": {},
   "outputs": [],
   "source": [
    "train_test_labels = []\n",
    "for label in df_withpattern.trianTestLabel:\n",
    "    train_test_labels.append(label[0][0])\n",
    "unique_labels = np.unique(train_test_labels, return_counts=True)\n",
    "for label, count in zip(unique_labels[0], unique_labels[1]):\n",
    "    print('Number of {} samples:'.format(label), count)"
   ]
  },
  {
   "cell_type": "markdown",
   "metadata": {},
   "source": [
    "### Data Visualization"
   ]
  },
  {
   "cell_type": "markdown",
   "metadata": {},
   "source": [
    "First 100 samples with failure patterns:"
   ]
  },
  {
   "cell_type": "code",
   "execution_count": null,
   "metadata": {},
   "outputs": [],
   "source": [
    "fig, ax = plt.subplots(nrows = 10, ncols = 10, figsize=(20, 20))\n",
    "ax = ax.ravel(order='C')\n",
    "for i in range(100):\n",
    "    img = df_withpattern.waferMap[i]\n",
    "    ax[i].imshow(img)\n",
    "    ax[i].set_title(df_withpattern.failureType[i][0][0], fontsize=10)\n",
    "    ax[i].set_xlabel(df_withpattern.index[i], fontsize=8)\n",
    "    ax[i].set_xticks([])\n",
    "    ax[i].set_yticks([])\n",
    "plt.tight_layout()\n",
    "plt.show() "
   ]
  },
  {
   "cell_type": "markdown",
   "metadata": {},
   "source": [
    "First 10 samples for each failure pattern:"
   ]
  },
  {
   "cell_type": "code",
   "execution_count": null,
   "metadata": {},
   "outputs": [],
   "source": [
    "x = [0,1,2,3,4,5,6,7]\n",
    "labels2 = ['Center','Donut','Edge-Loc','Edge-Ring','Loc','Random','Scratch','Near-full']\n",
    "\n",
    "for j in x:\n",
    "    fig, ax = plt.subplots(nrows = 1, ncols = 10, figsize=(18, 12))\n",
    "    ax = ax.ravel(order='C')\n",
    "    img = df_withpattern.waferMap[df_withpattern.failureType==labels2[j]]\n",
    "    for i in range(10):\n",
    "        ax[i].imshow(img[img.index[i]])\n",
    "        ax[i].set_title(df_withpattern.failureType[img.index[i]][0][0], fontsize=10)\n",
    "        ax[i].set_xlabel(df_withpattern.index[img.index[i]], fontsize=10)\n",
    "        ax[i].set_xticks([])\n",
    "        ax[i].set_yticks([])\n",
    "    plt.tight_layout()\n",
    "    plt.show() "
   ]
  },
  {
   "cell_type": "markdown",
   "metadata": {},
   "source": [
    "One typical sample for each failure pattern:"
   ]
  },
  {
   "cell_type": "code",
   "execution_count": null,
   "metadata": {},
   "outputs": [],
   "source": [
    "x = [9, 340, 3, 14, 0, 25, 15, 37]\n",
    "labels2 = ['Center','Donut','Edge-Loc','Edge-Ring','Loc','Random','Scratch','Near-full']\n",
    "\n",
    "fig, ax = plt.subplots(nrows = 2, ncols = 4, figsize=(20, 10))\n",
    "ax = ax.ravel(order='C')\n",
    "for i in range(8):\n",
    "    img = df_withpattern.waferMap[x[i]]\n",
    "    ax[i].imshow(img)\n",
    "    ax[i].set_title(df_withpattern.failureType[x[i]][0][0],fontsize=24)\n",
    "    ax[i].set_xticks([])\n",
    "    ax[i].set_yticks([])\n",
    "plt.tight_layout()\n",
    "plt.show() "
   ]
  }
 ],
 "metadata": {
  "kernelspec": {
   "display_name": "Python 3",
   "language": "python",
   "name": "python3"
  },
  "language_info": {
   "codemirror_mode": {
    "name": "ipython",
    "version": 3
   },
   "file_extension": ".py",
   "mimetype": "text/x-python",
   "name": "python",
   "nbconvert_exporter": "python",
   "pygments_lexer": "ipython3",
   "version": "3.6.7"
  }
 },
 "nbformat": 4,
 "nbformat_minor": 2
}
