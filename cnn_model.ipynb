{
 "cells": [
  {
   "cell_type": "code",
   "execution_count": 65,
   "metadata": {},
   "outputs": [],
   "source": [
    "import numpy as np\n",
    "import pandas as pd\n",
    "import matplotlib.pyplot as plt\n",
    "import tensorflow as tf\n",
    "from tensorflow.keras import Sequential\n",
    "from tensorflow.keras.layers import Conv2D, MaxPooling2D, Flatten, Dense, Dropout\n",
    "from tensorflow.keras.utils import to_categorical\n",
    "from tensorflow.keras.callbacks import EarlyStopping\n",
    "from sklearn.metrics import confusion_matrix"
   ]
  },
  {
   "cell_type": "code",
   "execution_count": 2,
   "metadata": {},
   "outputs": [],
   "source": [
    "df = pd.read_pickle(\"data/LSWMD.pkl\")\n",
    "df = df.drop(['trianTestLabel'], axis = 1)\n",
    "df = df.drop(['waferIndex'], axis = 1)"
   ]
  },
  {
   "cell_type": "code",
   "execution_count": 3,
   "metadata": {},
   "outputs": [
    {
     "name": "stdout",
     "output_type": "stream",
     "text": [
      "Different failure types: {'Scratch', 'Near-full', 'Loc', 'Edge-Ring', 'Center', 'Edge-Loc', 'Random', 'Donut', 'none'}\n"
     ]
    }
   ],
   "source": [
    "failure_types = []\n",
    "for f in df.failureType:\n",
    "    if f.size > 0:\n",
    "        failure_types.append(f[0][0])\n",
    "failure_types = set(failure_types)\n",
    "print('Different failure types:', failure_types)"
   ]
  },
  {
   "cell_type": "code",
   "execution_count": 4,
   "metadata": {},
   "outputs": [
    {
     "name": "stderr",
     "output_type": "stream",
     "text": [
      "C:\\Users\\aeali\\AppData\\Local\\Continuum\\anaconda3\\lib\\site-packages\\pandas\\core\\internals\\managers.py:1911: FutureWarning: elementwise comparison failed; returning scalar instead, but in the future will perform elementwise comparison\n",
      "  op = lambda x: operator.eq(x, b)\n"
     ]
    }
   ],
   "source": [
    "df['failureNum'] = df.failureType\n",
    "mapping = {'Center':0, 'Donut':1, 'Edge-Loc':2, 'Edge-Ring':3, 'Loc':4, 'Random':5, 'Scratch':6, 'Near-full':7, 'none':8}\n",
    "df=df.replace({'failureNum':mapping})"
   ]
  },
  {
   "cell_type": "code",
   "execution_count": 5,
   "metadata": {},
   "outputs": [],
   "source": [
    "df = df[(df['failureNum'] >= 0) & (df['failureNum'] <= 7)]"
   ]
  },
  {
   "cell_type": "markdown",
   "metadata": {},
   "source": [
    "Resizing wafer maps"
   ]
  },
  {
   "cell_type": "code",
   "execution_count": 6,
   "metadata": {},
   "outputs": [],
   "source": [
    "target_dim = 64"
   ]
  },
  {
   "cell_type": "code",
   "execution_count": 7,
   "metadata": {},
   "outputs": [],
   "source": [
    "def resize_wafer_map(wm, target_size=(target_dim, target_dim)):\n",
    "    return tf.image.resize(np.expand_dims(wm, axis=-1), target_size, method='nearest').numpy()"
   ]
  },
  {
   "cell_type": "code",
   "execution_count": 8,
   "metadata": {},
   "outputs": [],
   "source": [
    "def one_hot_img(wm):\n",
    "    h, w = wm.shape[0], wm.shape[1]\n",
    "    one_hot = np.zeros((h, w, 3))\n",
    "    for i in range(h):\n",
    "        for j in range(w):\n",
    "            one_hot[i, j, int(wm[i, j])] = 1\n",
    "    return one_hot"
   ]
  },
  {
   "cell_type": "code",
   "execution_count": 9,
   "metadata": {},
   "outputs": [],
   "source": [
    "def add_noise(wm):\n",
    "    h, w = wm.shape[0], wm.shape[1] \n",
    "    n_change = int(0.01 * h * w)\n",
    "    changed = 0\n",
    "    noised = wm.copy()\n",
    "    while changed < n_change:\n",
    "        i, j = np.random.randint(0, target_dim), np.random.randint(0, target_dim)\n",
    "        if wm[i, j, 0] == 0:  # If the point is on the wafer\n",
    "            noised[i, j, 1] = int(not noised[i, j, 1])\n",
    "            noised[i, j, 2] = int(not noised[i, j, 2])\n",
    "            changed += 1\n",
    "    return noised"
   ]
  },
  {
   "cell_type": "code",
   "execution_count": 10,
   "metadata": {},
   "outputs": [],
   "source": [
    "df['waferMapResized']=df.waferMap.apply(resize_wafer_map).apply(one_hot_img)"
   ]
  },
  {
   "cell_type": "code",
   "execution_count": 11,
   "metadata": {},
   "outputs": [
    {
     "data": {
      "text/plain": [
       "<matplotlib.image.AxesImage at 0x22abcba4860>"
      ]
     },
     "execution_count": 11,
     "metadata": {},
     "output_type": "execute_result"
    },
    {
     "data": {
      "image/png": "[encoded data removed]",
      "text/plain": [
       "<Figure size 432x288 with 1 Axes>"
      ]
     },
     "metadata": {
      "needs_background": "light"
     },
     "output_type": "display_data"
    }
   ],
   "source": [
    "wm = df.waferMap[19]\n",
    "wm_resized = df.waferMapResized[19]\n",
    "wm_noised = add_noise(wm_resized)\n",
    "plt.imshow(wm.squeeze())"
   ]
  },
  {
   "cell_type": "code",
   "execution_count": 12,
   "metadata": {},
   "outputs": [
    {
     "name": "stdout",
     "output_type": "stream",
     "text": [
      "(64, 64, 3)\n"
     ]
    },
    {
     "data": {
      "image/png": "[encoded data removed]",
      "text/plain": [
       "<Figure size 432x288 with 1 Axes>"
      ]
     },
     "metadata": {
      "needs_background": "light"
     },
     "output_type": "display_data"
    }
   ],
   "source": [
    "plt.imshow(wm_resized.squeeze())\n",
    "print(wm_resized.shape)"
   ]
  },
  {
   "cell_type": "code",
   "execution_count": 13,
   "metadata": {},
   "outputs": [
    {
     "name": "stdout",
     "output_type": "stream",
     "text": [
      "(64, 64, 3)\n"
     ]
    },
    {
     "data": {
      "image/png": "[encoded data removed]",
      "text/plain": [
       "<Figure size 432x288 with 1 Axes>"
      ]
     },
     "metadata": {
      "needs_background": "light"
     },
     "output_type": "display_data"
    }
   ],
   "source": [
    "plt.imshow(wm_noised.squeeze())\n",
    "print(wm_noised.shape)"
   ]
  },
  {
   "cell_type": "markdown",
   "metadata": {},
   "source": [
    "Stratified sampling with proportionate allocation"
   ]
  },
  {
   "cell_type": "code",
   "execution_count": 14,
   "metadata": {},
   "outputs": [],
   "source": [
    "for label in range(len(failure_types)):\n",
    "    globals()['df_{}'.format(label)] = df[(df['failureNum'] == label)].sample(frac=1)"
   ]
  },
  {
   "cell_type": "code",
   "execution_count": 15,
   "metadata": {},
   "outputs": [
    {
     "name": "stdout",
     "output_type": "stream",
     "text": [
      "Number of samples per label:\n",
      "0: 4294\n",
      "1: 555\n",
      "2: 5189\n",
      "3: 9680\n",
      "4: 3593\n",
      "5: 866\n",
      "6: 1193\n",
      "7: 149\n"
     ]
    }
   ],
   "source": [
    "print('Number of samples per class:')\n",
    "for label in range(len(failure_types) - 1):\n",
    "    print('{}:'.format(label), len(globals()['df_{}'.format(label)]))"
   ]
  },
  {
   "cell_type": "code",
   "execution_count": 16,
   "metadata": {},
   "outputs": [],
   "source": [
    "test_ratio, valid_ratio = 0.2, 0.2\n",
    "for label in range(len(failure_types)):\n",
    "    length = len(globals()['df_{}'.format(label)])\n",
    "    idx_test = int(length * test_ratio)\n",
    "    idx_valid = idx_test + int(length * valid_ratio)\n",
    "    globals()['df_{}_test'.format(label)] = globals()['df_{}'.format(label)][:idx_test].reset_index()\n",
    "    globals()['df_{}_valid'.format(label)] = globals()['df_{}'.format(label)][idx_test:idx_valid].reset_index()\n",
    "    globals()['df_{}_train'.format(label)] = globals()['df_{}'.format(label)][idx_valid:].reset_index()\n",
    "    del globals()['df_{}'.format(label)]"
   ]
  },
  {
   "cell_type": "code",
   "execution_count": 17,
   "metadata": {},
   "outputs": [
    {
     "name": "stdout",
     "output_type": "stream",
     "text": [
      "\n",
      "Number of samples per label in test set:\n",
      "0: 858\n",
      "1: 111\n",
      "2: 1037\n",
      "3: 1936\n",
      "4: 718\n",
      "5: 173\n",
      "6: 238\n",
      "7: 29\n",
      "\n",
      "Number of samples per label in valid set:\n",
      "0: 858\n",
      "1: 111\n",
      "2: 1037\n",
      "3: 1936\n",
      "4: 718\n",
      "5: 173\n",
      "6: 238\n",
      "7: 29\n",
      "Number of samples per label in train set:\n",
      "0: 2578\n",
      "1: 333\n",
      "2: 3115\n",
      "3: 5808\n",
      "4: 2157\n",
      "5: 520\n",
      "6: 717\n",
      "7: 91\n"
     ]
    }
   ],
   "source": [
    "print('\\nNumber of samples per label in test set:')\n",
    "for label in range(len(failure_types) - 1):\n",
    "    print('{}:'.format(label), len(globals()['df_{}_test'.format(label)]))\n",
    "\n",
    "print('\\nNumber of samples per label in valid set:')\n",
    "for label in range(len(failure_types) - 1):\n",
    "    print('{}:'.format(label), len(globals()['df_{}_valid'.format(label)]))\n",
    "\n",
    "print('Number of samples per label in train set:')\n",
    "for label in range(len(failure_types) - 1):\n",
    "    print('{}:'.format(label), len(globals()['df_{}_train'.format(label)]))"
   ]
  },
  {
   "cell_type": "code",
   "execution_count": 18,
   "metadata": {},
   "outputs": [
    {
     "name": "stdout",
     "output_type": "stream",
     "text": [
      "5808\n"
     ]
    }
   ],
   "source": [
    "max_class_len_train = np.max([len(globals()['df_{}_train'.format(i)]) for i in range(len(failure_types) - 1)])\n",
    "print(max_class_len_train)"
   ]
  },
  {
   "cell_type": "markdown",
   "metadata": {},
   "source": [
    "Data augmentation for the train set"
   ]
  },
  {
   "cell_type": "code",
   "execution_count": 19,
   "metadata": {},
   "outputs": [],
   "source": [
    "x_test, y_test = [], []\n",
    "for label in range(len(failure_types) - 1):\n",
    "    for wm in globals()['df_{}_test'.format(label)].waferMapResized:\n",
    "        x_test.append(np.expand_dims(wm, axis=0))\n",
    "        y_test.append(label)"
   ]
  },
  {
   "cell_type": "code",
   "execution_count": 20,
   "metadata": {},
   "outputs": [],
   "source": [
    "x_valid, y_valid = [], []\n",
    "for label in range(len(failure_types) - 1):\n",
    "    for wm in globals()['df_{}_valid'.format(label)].waferMapResized:\n",
    "        x_valid.append(np.expand_dims(wm, axis=0))\n",
    "        y_valid.append(label)"
   ]
  },
  {
   "cell_type": "code",
   "execution_count": 21,
   "metadata": {},
   "outputs": [],
   "source": [
    "x_train, y_train = [], []\n",
    "for label in range(len(failure_types) - 1):\n",
    "    length = len(globals()['df_{}_train'.format(label)])\n",
    "    n_new = max_class_len_train - length\n",
    "    for i in range(n_new):\n",
    "        x = globals()['df_{}_train'.format(label)].waferMapResized.loc[np.random.choice(range(length))]\n",
    "        if np.random.random() < 0.5:\n",
    "            new_x = tf.image.flip_left_right(x).numpy()\n",
    "        else:\n",
    "            new_x = tf.image.rot90(x).numpy()\n",
    "        new_x = add_noise(new_x)\n",
    "        x_train.append(np.expand_dims(new_x, axis=0))\n",
    "        y_train.append(label)\n",
    "    for wm in globals()['df_{}_train'.format(label)].waferMapResized:\n",
    "        x_train.append(np.expand_dims(wm, axis=0))\n",
    "        y_train.append(label)"
   ]
  },
  {
   "cell_type": "code",
   "execution_count": 22,
   "metadata": {},
   "outputs": [],
   "source": [
    "x_test_arr = np.concatenate(x_test, axis=0)\n",
    "y_test_arr = np.array(y_test)\n",
    "x_valid_arr = np.concatenate(x_valid, axis=0)\n",
    "y_valid_arr = np.array(y_valid)\n",
    "x_train_arr = np.concatenate(x_train, axis=0)\n",
    "y_train_arr = np.array(y_train)\n",
    "del x_test, y_test, x_valid, y_valid, x_train, y_train"
   ]
  },
  {
   "cell_type": "code",
   "execution_count": 23,
   "metadata": {},
   "outputs": [],
   "source": [
    "y_test_arr = to_categorical(y_test_arr)\n",
    "y_valid_arr = to_categorical(y_valid_arr)\n",
    "y_train_arr = to_categorical(y_train_arr)"
   ]
  },
  {
   "cell_type": "code",
   "execution_count": 24,
   "metadata": {},
   "outputs": [
    {
     "name": "stdout",
     "output_type": "stream",
     "text": [
      "[0. 1. 0. 0. 0. 0. 0. 0.]\n"
     ]
    },
    {
     "data": {
      "image/png": "[encoded data removed]",
      "text/plain": [
       "<Figure size 432x288 with 1 Axes>"
      ]
     },
     "metadata": {
      "needs_background": "light"
     },
     "output_type": "display_data"
    }
   ],
   "source": [
    "plt.imshow(x_train_arr[11422, :, :, -1].squeeze())\n",
    "print(y_train_arr[11422])"
   ]
  },
  {
   "cell_type": "markdown",
   "metadata": {},
   "source": [
    "Model definition"
   ]
  },
  {
   "cell_type": "code",
   "execution_count": 68,
   "metadata": {},
   "outputs": [
    {
     "name": "stdout",
     "output_type": "stream",
     "text": [
      "Model: \"sequential\"\n",
      "_________________________________________________________________\n",
      "Layer (type)                 Output Shape              Param #   \n",
      "=================================================================\n",
      "conv2d (Conv2D)              (None, 64, 64, 16)        160       \n",
      "_________________________________________________________________\n",
      "max_pooling2d (MaxPooling2D) (None, 32, 32, 16)        0         \n",
      "_________________________________________________________________\n",
      "conv2d_1 (Conv2D)            (None, 32, 32, 32)        4640      \n",
      "_________________________________________________________________\n",
      "max_pooling2d_1 (MaxPooling2 (None, 16, 16, 32)        0         \n",
      "_________________________________________________________________\n",
      "conv2d_2 (Conv2D)            (None, 16, 16, 32)        9248      \n",
      "_________________________________________________________________\n",
      "max_pooling2d_2 (MaxPooling2 (None, 8, 8, 32)          0         \n",
      "_________________________________________________________________\n",
      "flatten (Flatten)            (None, 2048)              0         \n",
      "_________________________________________________________________\n",
      "dropout (Dropout)            (None, 2048)              0         \n",
      "_________________________________________________________________\n",
      "dense (Dense)                (None, 128)               262272    \n",
      "_________________________________________________________________\n",
      "dropout_1 (Dropout)          (None, 128)               0         \n",
      "_________________________________________________________________\n",
      "dense_1 (Dense)              (None, 8)                 1032      \n",
      "=================================================================\n",
      "Total params: 277,352\n",
      "Trainable params: 277,352\n",
      "Non-trainable params: 0\n",
      "_________________________________________________________________\n"
     ]
    }
   ],
   "source": [
    "tf.keras.backend.clear_session()\n",
    "\n",
    "cnn = Sequential()\n",
    "cnn.add(Conv2D(16, (3, 3), padding='same', activation='relu', input_shape=(target_dim, target_dim, 1)))\n",
    "cnn.add(MaxPooling2D())\n",
    "cnn.add(Conv2D(32, (3, 3), padding='same', activation='relu'))\n",
    "cnn.add(MaxPooling2D())\n",
    "cnn.add(Conv2D(32, (3, 3), padding='same', activation='relu'))\n",
    "cnn.add(MaxPooling2D())\n",
    "cnn.add(Flatten())\n",
    "cnn.add(Dropout(0.25))\n",
    "cnn.add(Dense(128, activation='relu'))\n",
    "cnn.add(Dropout(0.5))\n",
    "cnn.add(Dense(8, activation='softmax'))\n",
    "\n",
    "cnn.compile('nadam', loss='categorical_crossentropy', metrics=['categorical_accuracy'])\n",
    "cnn.summary()"
   ]
  },
  {
   "cell_type": "code",
   "execution_count": 76,
   "metadata": {},
   "outputs": [],
   "source": [
    "cb = [EarlyStopping(patience=3)]"
   ]
  },
  {
   "cell_type": "code",
   "execution_count": 77,
   "metadata": {},
   "outputs": [
    {
     "name": "stdout",
     "output_type": "stream",
     "text": [
      "Train on 46464 samples, validate on 5100 samples\n",
      "Epoch 1/20\n",
      "46464/46464 [==============================] - 553s 12ms/sample - loss: 0.4215 - categorical_accuracy: 0.8379 - val_loss: 0.3357 - val_categorical_accuracy: 0.8663\n",
      "Epoch 2/20\n",
      "46464/46464 [==============================] - 468s 10ms/sample - loss: 0.3912 - categorical_accuracy: 0.8509 - val_loss: 0.3258 - val_categorical_accuracy: 0.8673\n",
      "Epoch 3/20\n",
      "46464/46464 [==============================] - 400s 9ms/sample - loss: 0.3781 - categorical_accuracy: 0.8562 - val_loss: 0.3065 - val_categorical_accuracy: 0.8749\n",
      "Epoch 4/20\n",
      "46464/46464 [==============================] - 435s 9ms/sample - loss: 0.3509 - categorical_accuracy: 0.8678 - val_loss: 0.2886 - val_categorical_accuracy: 0.8788\n",
      "Epoch 5/20\n",
      "46464/46464 [==============================] - 417s 9ms/sample - loss: 0.3413 - categorical_accuracy: 0.8709 - val_loss: 0.2648 - val_categorical_accuracy: 0.8927\n",
      "Epoch 6/20\n",
      "46464/46464 [==============================] - 377s 8ms/sample - loss: 0.3159 - categorical_accuracy: 0.8778 - val_loss: 0.2755 - val_categorical_accuracy: 0.8882\n",
      "Epoch 7/20\n",
      "46464/46464 [==============================] - 386s 8ms/sample - loss: 0.3088 - categorical_accuracy: 0.8840 - val_loss: 0.2652 - val_categorical_accuracy: 0.8902\n",
      "Epoch 8/20\n",
      "46464/46464 [==============================] - 391s 8ms/sample - loss: 0.2928 - categorical_accuracy: 0.8898 - val_loss: 0.2525 - val_categorical_accuracy: 0.9004\n",
      "Epoch 9/20\n",
      "46464/46464 [==============================] - 385s 8ms/sample - loss: 0.2799 - categorical_accuracy: 0.8947 - val_loss: 0.2481 - val_categorical_accuracy: 0.9031\n",
      "Epoch 10/20\n",
      "46464/46464 [==============================] - 383s 8ms/sample - loss: 0.2659 - categorical_accuracy: 0.9007 - val_loss: 0.2487 - val_categorical_accuracy: 0.8988\n",
      "Epoch 11/20\n",
      "46464/46464 [==============================] - 375s 8ms/sample - loss: 0.2725 - categorical_accuracy: 0.8987 - val_loss: 0.2930 - val_categorical_accuracy: 0.8800\n",
      "Epoch 12/20\n",
      "46464/46464 [==============================] - 344s 7ms/sample - loss: 0.2480 - categorical_accuracy: 0.9069 - val_loss: 0.2655 - val_categorical_accuracy: 0.8871\n"
     ]
    }
   ],
   "source": [
    "history = cnn.fit(np.expand_dims(x_train_arr[:, :, :, 2], axis=-1), y_train_arr, batch_size=1024, epochs=20,\n",
    "                  validation_data=(np.expand_dims(x_valid_arr[:, :, :, 2], axis=-1), y_valid_arr), callbacks=cb)"
   ]
  },
  {
   "cell_type": "code",
   "execution_count": 82,
   "metadata": {},
   "outputs": [
    {
     "data": {
      "image/png": "[encoded data removed]",
      "text/plain": [
       "<Figure size 432x288 with 1 Axes>"
      ]
     },
     "metadata": {
      "needs_background": "light"
     },
     "output_type": "display_data"
    }
   ],
   "source": [
    "plt.figure()\n",
    "plt.plot(history.history['loss'], label='Training loss')\n",
    "plt.plot(history.history['val_loss'], label='Validation loss')\n",
    "plt.xlabel('Epoch')\n",
    "plt.ylabel('Loss')\n",
    "plt.legend()\n",
    "plt.title('Categorical Cross-Entropy')\n",
    "plt.show()"
   ]
  },
  {
   "cell_type": "code",
   "execution_count": 83,
   "metadata": {},
   "outputs": [
    {
     "data": {
      "image/png": "[encoded data removed]",
      "text/plain": [
       "<Figure size 432x288 with 1 Axes>"
      ]
     },
     "metadata": {
      "needs_background": "light"
     },
     "output_type": "display_data"
    }
   ],
   "source": [
    "plt.figure()\n",
    "plt.plot(history.history['categorical_accuracy'], label='Training accuracy')\n",
    "plt.plot(history.history['val_categorical_accuracy'], label='Validation accuracy')\n",
    "plt.xlabel('Epoch')\n",
    "plt.ylabel('Accuracy')\n",
    "plt.legend()\n",
    "plt.title('Accuracy')\n",
    "plt.show()"
   ]
  },
  {
   "cell_type": "code",
   "execution_count": 84,
   "metadata": {},
   "outputs": [
    {
     "name": "stdout",
     "output_type": "stream",
     "text": [
      "Test loss: 0.26756480153029166\n",
      "Test accuracy: 0.8905882\n"
     ]
    }
   ],
   "source": [
    "score = cnn.evaluate(np.expand_dims(x_test_arr[:, :, :, 2], axis=-1), y_test_arr, verbose=0)\n",
    "print('Test loss:', score[0])\n",
    "print('Test accuracy:', score[1])"
   ]
  },
  {
   "cell_type": "code",
   "execution_count": 85,
   "metadata": {},
   "outputs": [],
   "source": [
    "predictions = cnn.predict(np.expand_dims(x_test_arr[:, :, :, 2], axis=-1))"
   ]
  },
  {
   "cell_type": "code",
   "execution_count": 86,
   "metadata": {},
   "outputs": [
    {
     "data": {
      "text/plain": [
       "array([[ 828,    4,    1,    0,    4,    6,   15,    0],\n",
       "       [   0,  105,    0,    0,    5,    1,    0,    0],\n",
       "       [   5,    1,  875,   40,   35,   20,   58,    3],\n",
       "       [   2,    1,   27, 1898,    2,    1,    5,    0],\n",
       "       [  24,    7,   49,    0,  436,   10,  192,    0],\n",
       "       [   0,    2,    2,    0,    1,  167,    1,    0],\n",
       "       [   1,    1,    9,    2,   18,    1,  206,    0],\n",
       "       [   2,    0,    0,    0,    0,    0,    0,   27]], dtype=int64)"
      ]
     },
     "execution_count": 86,
     "metadata": {},
     "output_type": "execute_result"
    }
   ],
   "source": [
    "cm = confusion_matrix(np.argmax(y_test_arr, axis=1), np.argmax(predictions, axis=1))\n",
    "cm"
   ]
  }
 ],
 "metadata": {
  "kernelspec": {
   "display_name": "Python 3",
   "language": "python",
   "name": "python3"
  },
  "language_info": {
   "codemirror_mode": {
    "name": "ipython",
    "version": 3
   },
   "file_extension": ".py",
   "mimetype": "text/x-python",
   "name": "python",
   "nbconvert_exporter": "python",
   "pygments_lexer": "ipython3",
   "version": "3.6.7"
  }
 },
 "nbformat": 4,
 "nbformat_minor": 2
}
